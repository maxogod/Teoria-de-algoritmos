{
 "cells": [
  {
   "cell_type": "markdown",
   "metadata": {},
   "source": [
    "# Examenes"
   ]
  },
  {
   "cell_type": "markdown",
   "metadata": {},
   "source": [
    "## 1C2023"
   ]
  },
  {
   "cell_type": "markdown",
   "metadata": {},
   "source": [
    "## 2C2023"
   ]
  },
  {
   "cell_type": "markdown",
   "metadata": {},
   "source": [
    "### Examen parcial – 10/11/2023\n",
    "\n",
    "1. Somos ayudantes del gran ladrón el Lunático, que está pensando en su próximo atraco. Decidió en este caso robar toda una calle en un barrio privado, que tiene la particularidad de ser circular. Gracias a los trabajos de inteligencia realizados, sabemos cuánto se puede obtener por robar en cada casa. Podemos enumerar a la primer casa como la casa 0, de la cual podríamos obtener g0, la casa a su derecha es la 1, que nos daría g1, y así hasta llegar a la casa n − 1, que nos daría gn−1. Como la calle es circular, la casa 0 y la n − 1 son vecinas. El problema con el que cuenta el Lunático es que sabe de experiencias anteriores que, si roba en una casa, los vecinos directos se enterarían muy rápido. No le daría tiempo a luego intentar robarles a ellos. Es decir, para robar una casa debe prescindir de robarle a sus vecinos directos. El Lunático nos encarga saber cuáles casas debería atracar y cuál sería la ganancia máxima obtenible. Dado que nosotros nos llevamos un porcentaje de dicha ganancia, vamos a buscar el óptimo a este problema. Implementar un algoritmo que, por programación dinámica, obtenga la ganancia óptima, así como cuáles casas habría que robar, a partir de recibir un arreglo de las ganancias obtenibles. Para esto, escribir y describir la ecuación de recurrencia que correspondiente. Indicar y justificar la complejidad del algoritmo propuesto.\n",
    "\n",
    "\n",
    "2. Tenés una colección de n libros con diferentes espesores, que pueden estar entre 1 y n (valores no necesariamente enteros). Tu objetivo es guardar esos libros en la menor cantidad de cajas. Todas las cajas que disponés son de la misma capacidad L (se asegura que L ≥ n). Obviamente, no podés partir un libro para que vaya en múltiples cajas, pero sí podés poner múltiples libros en una misma caja, siempre y cuando no superen esa capacidad L. Implementar un algoritmo Greedy que obtenga la mínima cantidad de cajas a utilizar. Indicar y justificar la complejidad del algoritmo implementado. Justificar por qué se trata de un algoritmo greedy (no dar una respuesta genérica, sino aplicada a tu algoritmo). ¿El algoritmo propuesto encuentra siempre la solución óptima? Justificar.\n",
    "\n",
    "\n",
    "3. Un set dominante (Dominating Set) de un grafo G es un subconjunto D de vértices de G, tal que todo vértice de G pertenece a D o es adyacente a un vértice en D. El problema de decisión del set dominante implica, dado un grafo G y un número k, determinar si existe un set dominante de a lo sumo tamaño k.\n",
    "\\\n",
    "\\\n",
    "Demostrar que el Dominating Set Problem es un problema NP-Completo. Ayuda: recomendamos recordar Vertex Cover,\n",
    "que puede ser útil para esto.\n",
    "\n",
    "\n",
    "1. Implementar un algoritmo que reciba un Grafo y un número k y devuelva un dominating set de dicho grafo de a lo sumo k vértices (si existe).\n",
    "\n",
    "\n",
    "5. Hacer un seguimiento de obtener el flujo máximo en la red de transporte del dorso, realizando las modificaciones previas que fueran necesarias. Luego, definir cuáles son los dos conjuntos del corte mínimo en dicha red.\n",
    "\n",
    "![EXERCISE_EXAM_10-11-23](img/EXERCISE_EXAM_10-11-23.png)"
   ]
  },
  {
   "cell_type": "markdown",
   "metadata": {},
   "source": [
    "### 1.er recuperatorio de examen parcial – 01/12/2023\n",
    "1. Implementar un algoritmo que dado un Grafo no dirigido nos devuelva un conjunto de vértices que representen un mínimo Vertex Cover del mismo.\n",
    "\n",
    "\n",
    "2. Dado un arreglo de n enteros, encontrar el subarreglo contiguo de máxima suma, utilizando División y Conquista. Indicar y justificar la complejidad del algoritmo.\n",
    "\n",
    "\n",
    "3. Dado un número K, se quiere obtener la mínima cantidad de operaciones para llegar de 0 a K, siendo que las operaciones posibles son: (i) aumentar el valor del operando en 1; (ii) duplicar el valor del operando.\n",
    "\\\n",
    "\\\n",
    "Implementar un algoritmo que, por programación dinámica obtenga la menor cantidad de operaciones a realizar (y\n",
    "cómo son dichas operaciones). Desarrollar la ecuación de recurrencia. Indicar y justificar la complejidad del algoritmo implementado.\n",
    "\n",
    "\n",
    "4. El problema de selección de caminos (Path Selection) pregunta: dado un grafo dirigido G y un set de pedidos P1, P2, ..., Pc de caminos dentro de dicho grafo y un número k, ¿es posible seleccionar al menos k de esos caminos tales que ningún par de ellos compartan ningún nodo?\n",
    "\\\n",
    "\\\n",
    "Path Selection es un problema NP-Completo. Ahora bien, queremos demostrar nuevamente (pero de otra forma a la\n",
    "vista en clase) que Independent Set es un problema NP-Completo. Demostrar que Independent Set es un problema\n",
    "NP-Completo, utilizando Path Selection para esto.\n",
    "\n",
    "\n",
    "5. Trabajamos para el mafioso Arnook, que es quien tiene la máxima influencia y poder en la ciudad costera de Ciudad República. Allí reina el caos y la delincuencia, a tal punto que quien termina organizando las pequeñas mafias locales no es otro sino Arnook. En particular, nos vamos a centrar en unos pedidos que recibe de parte de dichos grupos por el control de diferentes kilómetros de la ruta costera. Cada pequeña mafia le pide a Arnook control sobre un rango de kilómetros (por ejemplo, la mafia nro 1 le pide del kilómetro 1 al 5, la mafia 2 le pide del 3 al 8, etc. . . ). Si hay una mafia tomando control de algún determinado kilómetro, no puede haber otra haciendo lo mismo (es decir, no pueden solaparse). Cada mafia pide por un rango específico. Arnook no cobra por kilómetraje sino por “otorgar el permiso”, indistintamente de los kilómetros pedidos. Ahora bien, esto es una mafia, no una ONG, y no debe rendir cuentas con nadie, así lo único que le interesa es maximizar la cantidad de permisos otorgados (asegurándose de no otorgarle algún lugar a dos mafias diferentes). Implementar un algoritmo Greedy que reciba los rangos de kilómetros pedidos por cada\n",
    "mafia, y determine a cuáles se les otorgará control, de forma que no hayan dos mafias ocupando mismo territorio, y a su vez maximizando la cantidad de pedidos otorgados. Indicar y justificar la complejidad del algoritmo implementado.\n",
    "\\\n",
    "Justificar por qué el algoritmo planteado es Greedy. ¿El algoritmo da la solución óptima siempre?"
   ]
  },
  {
   "cell_type": "markdown",
   "metadata": {},
   "source": [
    "### 2.do recuperatorio de examen parcial; 1.era fecha de examen final – 15/12/2023\n",
    "\n",
    "1. Implementar un algoritmo que, por división y conquista, dado un arreglo de n números enteros devuelva true o false según si existe algún elemento que aparezca más de dos tercios de las veces. El algoritmo debe ser O(n). Justificar la complejidad del algoritmo implementado.\n",
    "\n",
    "\n",
    "2. Carlitos (primo de Juan, el vago) trabaja para una empresa de publicidad. Tiene un determinado presupuesto P que no puede sobrepasar, y tiene que una serie de campañas publicitarias para elegir. La campaña i cuesta $Ci. También se han realizado diversos estudios que permiten estimar cuánta ganancia nos dará cada campaña, que denominaremos Gi.\n",
    "Implementar un algoritmo que reciba esta información y devuelva cuáles campañas debe realizar Carlitos. Indicar y justificar la complejidad del algoritmo propuesto. ¿Da lo mismo si los valores están expresados en pesos argentinos, dólares u otra moneda? (haciendo la equivalencia de divisa, siempre suponiendo valores enteros).\n",
    "\n",
    "\n",
    "3. En su tiempo libre, Carlitos colecciona figuritas del mundial. Incluso a casi un año de la coronación de gloria, hay mucho entusiasmo por estas. Llegó a coleccionar tantas que ahora se dedica a revenderlas (para sacar unos pesos extra de su trabajo principal como publicista). Tiene tantas figuritas que ya no revende al público directamente, sino a otros revendedores y cadenas de kioscos. En general, cuando le piden, le piden figuritas “por una cantidad de dinero”. Cada tipo de figurita tiene un valor diferente (es decir, la de Messi no vale lo mismo que la del Bobo Weghorst). Podemos decir que absolutamente todos los tipos de figuritas tienen valores diferentes, todos valores enteros, y que Carlitos cuenta con una cantidad ridículamente alta de cada una de ellas. Por un análisis que hizo, sabe que si le piden figuritas por un determinado monto, le conviene dar la menor cantidad de figuritas posibles (siempre cumpliendo con el monto exacto\n",
    "pedido), incluso repitiendo figuritas en caso de ser necesario. El problema de las figuritas de Carlitos dice: dados los valores de los diferentes tipos de figuritas y un monto al que llegar, determinar cuáles figuritas debe dar Carlitos para cumplir exactamente con dicho monto dando la mínima cantidad de figuritas para ello.\n",
    "\\\n",
    "\\\n",
    "¿Cuál problema de Carlitos sería el más difícil, el problema de las figuritas o el de su agencia publicitaria? Realizar una reducción polinomial de uno al otro para definir esto (redefinir como problemas de decisión como primer paso).\n",
    "\n",
    "\n",
    "4. En un hospital, se tiene un conjunto de médicos y un conjunto de pacientes. Cada médico tiene un horario con franjas horarias disponibles para citas médicas. Nuestro objetivo es emparejar médicos con pacientes de manera que se maximice el número total de citas médicas programadas. Implementar un algoritmo que resuelva dicho problema de manera eficiente. Indicar y justificar la complejidad del algoritmo implementado.\n",
    "\n",
    "\n",
    "5. Tenemos una ruta recta muy larga, de K kilómetros, sobre la cual hay casas dispersas. En dichas casas vive gente que usa mucho sus celulares. El intendente a cargo la ruta debe renovar por completo el sistema de antenas, teniendo que construir sobre la ruta nuevas antenas. Cada antena tiene un rango de cobertura de R kilómetros (valor constante conocido). Implementar un algoritmo Greedy que reciba las ubicaciones de las casas (número de kilómetro sobre esta ruta) y devuelva los kilómetros sobre los que debemos construir las antenas para que todas las casas tengan cobertura, y se construya para esto la menor cantidad de antenas posibles. Indicar y justificar la complejidad del algoritmo implementado. Justificar por qué se trata de un algoritmo greedy."
   ]
  }
 ],
 "metadata": {
  "language_info": {
   "name": "python"
  }
 },
 "nbformat": 4,
 "nbformat_minor": 2
}
